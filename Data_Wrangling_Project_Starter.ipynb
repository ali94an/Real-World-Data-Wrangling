{
 "cells": [
  {
   "cell_type": "markdown",
   "metadata": {
    "id": "GNIwe5N7s0e_"
   },
   "source": [
    "# Real-world Data Wrangling"
   ]
  },
  {
   "cell_type": "code",
   "execution_count": 1,
   "metadata": {},
   "outputs": [
    {
     "name": "stdout",
     "output_type": "stream",
     "text": [
      "Defaulting to user installation because normal site-packages is not writeable\n",
      "Requirement already satisfied: kaggle==1.6.12 in /home/student/.local/lib/python3.10/site-packages (1.6.12)\n",
      "Requirement already satisfied: python-dateutil in /opt/conda/lib/python3.10/site-packages (from kaggle==1.6.12) (2.9.0.post0)\n",
      "Requirement already satisfied: requests in /opt/conda/lib/python3.10/site-packages (from kaggle==1.6.12) (2.29.0)\n",
      "Requirement already satisfied: six>=1.10 in /opt/conda/lib/python3.10/site-packages (from kaggle==1.6.12) (1.16.0)\n",
      "Requirement already satisfied: bleach in /opt/conda/lib/python3.10/site-packages (from kaggle==1.6.12) (6.1.0)\n",
      "Requirement already satisfied: certifi>=2023.7.22 in /home/student/.local/lib/python3.10/site-packages (from kaggle==1.6.12) (2024.8.30)\n",
      "Requirement already satisfied: tqdm in /opt/conda/lib/python3.10/site-packages (from kaggle==1.6.12) (4.65.0)\n",
      "Requirement already satisfied: urllib3 in /opt/conda/lib/python3.10/site-packages (from kaggle==1.6.12) (1.26.15)\n",
      "Requirement already satisfied: python-slugify in /home/student/.local/lib/python3.10/site-packages (from kaggle==1.6.12) (8.0.4)\n",
      "Requirement already satisfied: webencodings in /opt/conda/lib/python3.10/site-packages (from bleach->kaggle==1.6.12) (0.5.1)\n",
      "Requirement already satisfied: text-unidecode>=1.3 in /home/student/.local/lib/python3.10/site-packages (from python-slugify->kaggle==1.6.12) (1.3)\n",
      "Requirement already satisfied: charset-normalizer<4,>=2 in /opt/conda/lib/python3.10/site-packages (from requests->kaggle==1.6.12) (2.0.4)\n",
      "Requirement already satisfied: idna<4,>=2.5 in /opt/conda/lib/python3.10/site-packages (from requests->kaggle==1.6.12) (3.4)\n"
     ]
    }
   ],
   "source": [
    "!python -m pip install kaggle==1.6.12"
   ]
  },
  {
   "cell_type": "code",
   "execution_count": 2,
   "metadata": {},
   "outputs": [
    {
     "name": "stdout",
     "output_type": "stream",
     "text": [
      "Collecting ucimlrepo\n",
      "  Using cached ucimlrepo-0.0.7-py3-none-any.whl (8.0 kB)\n",
      "Collecting numpy==1.24.3\n",
      "  Using cached numpy-1.24.3-cp310-cp310-manylinux_2_17_x86_64.manylinux2014_x86_64.whl (17.3 MB)\n",
      "Collecting certifi>=2020.12.5\n",
      "  Using cached certifi-2024.8.30-py3-none-any.whl (167 kB)\n",
      "Collecting pandas>=1.0.0\n",
      "  Using cached pandas-2.2.3-cp310-cp310-manylinux_2_17_x86_64.manylinux2014_x86_64.whl (13.1 MB)\n",
      "Collecting tzdata>=2022.7\n",
      "  Using cached tzdata-2024.2-py2.py3-none-any.whl (346 kB)\n",
      "Collecting python-dateutil>=2.8.2\n",
      "  Using cached python_dateutil-2.9.0.post0-py2.py3-none-any.whl (229 kB)\n",
      "Collecting pytz>=2020.1\n",
      "  Using cached pytz-2024.2-py2.py3-none-any.whl (508 kB)\n",
      "Collecting six>=1.5\n",
      "  Using cached six-1.17.0-py2.py3-none-any.whl (11 kB)\n",
      "Installing collected packages: pytz, tzdata, six, numpy, certifi, python-dateutil, pandas, ucimlrepo\n",
      "Successfully installed certifi-2024.8.30 numpy-1.24.3 pandas-2.2.3 python-dateutil-2.9.0.post0 pytz-2024.2 six-1.17.0 tzdata-2024.2 ucimlrepo-0.0.7\n",
      "\u001b[33mWARNING: Target directory /workspace/dateutil already exists. Specify --upgrade to force replacement.\u001b[0m\u001b[33m\n",
      "\u001b[0m\u001b[33mWARNING: Target directory /workspace/ucimlrepo-0.0.7.dist-info already exists. Specify --upgrade to force replacement.\u001b[0m\u001b[33m\n",
      "\u001b[0m\u001b[33mWARNING: Target directory /workspace/certifi-2024.8.30.dist-info already exists. Specify --upgrade to force replacement.\u001b[0m\u001b[33m\n",
      "\u001b[0m\u001b[33mWARNING: Target directory /workspace/tzdata already exists. Specify --upgrade to force replacement.\u001b[0m\u001b[33m\n",
      "\u001b[0m\u001b[33mWARNING: Target directory /workspace/python_dateutil-2.9.0.post0.dist-info already exists. Specify --upgrade to force replacement.\u001b[0m\u001b[33m\n",
      "\u001b[0m\u001b[33mWARNING: Target directory /workspace/pytz-2024.2.dist-info already exists. Specify --upgrade to force replacement.\u001b[0m\u001b[33m\n",
      "\u001b[0m\u001b[33mWARNING: Target directory /workspace/__pycache__ already exists. Specify --upgrade to force replacement.\u001b[0m\u001b[33m\n",
      "\u001b[0m\u001b[33mWARNING: Target directory /workspace/six.py already exists. Specify --upgrade to force replacement.\u001b[0m\u001b[33m\n",
      "\u001b[0m\u001b[33mWARNING: Target directory /workspace/certifi already exists. Specify --upgrade to force replacement.\u001b[0m\u001b[33m\n",
      "\u001b[0m\u001b[33mWARNING: Target directory /workspace/numpy-1.24.3.dist-info already exists. Specify --upgrade to force replacement.\u001b[0m\u001b[33m\n",
      "\u001b[0m\u001b[33mWARNING: Target directory /workspace/ucimlrepo already exists. Specify --upgrade to force replacement.\u001b[0m\u001b[33m\n",
      "\u001b[0m\u001b[33mWARNING: Target directory /workspace/pytz already exists. Specify --upgrade to force replacement.\u001b[0m\u001b[33m\n",
      "\u001b[0m\u001b[33mWARNING: Target directory /workspace/numpy.libs already exists. Specify --upgrade to force replacement.\u001b[0m\u001b[33m\n",
      "\u001b[0m\u001b[33mWARNING: Target directory /workspace/numpy already exists. Specify --upgrade to force replacement.\u001b[0m\u001b[33m\n",
      "\u001b[0m\u001b[33mWARNING: Target directory /workspace/tzdata-2024.2.dist-info already exists. Specify --upgrade to force replacement.\u001b[0m\u001b[33m\n",
      "\u001b[0m\u001b[33mWARNING: Target directory /workspace/pandas already exists. Specify --upgrade to force replacement.\u001b[0m\u001b[33m\n",
      "\u001b[0m\u001b[33mWARNING: Target directory /workspace/six-1.17.0.dist-info already exists. Specify --upgrade to force replacement.\u001b[0m\u001b[33m\n",
      "\u001b[0m\u001b[33mWARNING: Target directory /workspace/pandas-2.2.3.dist-info already exists. Specify --upgrade to force replacement.\u001b[0m\u001b[33m\n",
      "\u001b[0m\u001b[33mWARNING: Target directory /workspace/bin already exists. Specify --upgrade to force replacement.\u001b[0m\u001b[33m\n",
      "\u001b[0m"
     ]
    }
   ],
   "source": [
    "!pip install --target=/workspace ucimlrepo numpy==1.24.3"
   ]
  },
  {
   "cell_type": "markdown",
   "metadata": {},
   "source": [
    "**Note:** Restart the kernel to use updated package(s)."
   ]
  },
  {
   "cell_type": "markdown",
   "metadata": {
    "id": "lDYDkH-Zs7Nn"
   },
   "source": [
    "## 1. Gather data"
   ]
  },
  {
   "cell_type": "markdown",
   "metadata": {},
   "source": [
    "# Problem Statement\n",
    "\n",
    "This project investigates the relationship between individual player performance and team success in NBA basketball during the 2015 season. Using two datasets—NBA Player Stats (all_seasons.csv) and NBA Team Stats (seasons_stats.csv)—we aim to uncover how individual contributions such as points, assists, and rebounds correlate with team-level outcomes like wins, losses, and scoring margins.\n",
    "\n",
    "The analysis will involve filtering data for the 2015 season, cleaning and aligning the datasets, and generating insights into factors that influence team success. This project highlights the application of data wrangling, analysis, and integration techniques to sports performance data."
   ]
  },
  {
   "cell_type": "markdown",
   "metadata": {},
   "source": [
    "## Dataset 1: NBA Player Stats (`all_seasons.csv`)\n",
    "\n",
    "- **Type**: CSV File\n",
    "- **Method**: The data was gathered programmatically from a public online source. The dataset was filtered to include only the year 2015 and relevant variables for analysis.\n",
    "\n",
    "### Dataset Variables:\n",
    "1. **team_id**: Identifier for the NBA team.\n",
    "2. **year_id**: The year of the data (2015).\n",
    "3. **pts**: Total points scored by the team in a game.\n",
    "4. **opp_pts**: Total points scored against the team in a game.\n",
    "5. **game_result**: Result of the game (`W` for win, `L` for loss).\n",
    "6. **game_location**: Location of the game (`H` for home, `A` for away).\n",
    "\n",
    "This dataset focuses on team-level performance metrics during the 2015 NBA season, which will be analyzed alongside Dataset 2 for deeper insights."
   ]
  },
  {
   "cell_type": "code",
   "execution_count": 3,
   "metadata": {},
   "outputs": [],
   "source": [
    "import pandas as pd\n",
    "import requests\n",
    "from io import StringIO\n",
    "\n",
    "# URL for the dataset\n",
    "url = \"https://raw.githubusercontent.com/fivethirtyeight/data/master/nba-elo/nbaallelo.csv\"\n",
    "\n",
    "# Programmatically download the dataset\n",
    "response = requests.get(url)"
   ]
  },
  {
   "cell_type": "code",
   "execution_count": 4,
   "metadata": {
    "scrolled": true
   },
   "outputs": [
    {
     "name": "stdout",
     "output_type": "stream",
     "text": [
      "Available Columns: ['gameorder', 'game_id', 'lg_id', '_iscopy', 'year_id', 'date_game', 'seasongame', 'is_playoffs', 'team_id', 'fran_id', 'pts', 'elo_i', 'elo_n', 'win_equiv', 'opp_id', 'opp_fran', 'opp_pts', 'opp_elo_i', 'opp_elo_n', 'game_location', 'game_result', 'forecast', 'notes']\n",
      "Unique Years in 'year_id': [1947 1948 1949 1950 1951 1952 1953 1954 1955 1956 1957 1958 1959 1960\n",
      " 1961 1962 1963 1964 1965 1966 1967 1968 1969 1970 1971 1972 1973 1974\n",
      " 1975 1976 1977 1978 1979 1980 1981 1982 1983 1984 1985 1986 1987 1988\n",
      " 1989 1990 1991 1992 1993 1994 1995 1996 1997 1998 1999 2000 2001 2002\n",
      " 2003 2004 2005 2006 2007 2008 2009 2010 2011 2012 2013 2014 2015]\n",
      "       team_id  year_id  pts  opp_pts game_result game_location\n",
      "123692     HOU     2015  108       90           W             A\n",
      "123693     LAL     2015   90      108           L             H\n",
      "123694     NOP     2015  101       84           W             H\n",
      "123695     ORL     2015   84      101           L             A\n",
      "123696     SAS     2015  101      100           W             H\n",
      "Filtered dataset size: 2622 entries\n",
      "Filtered dataset saved as 'filtered_all_seasons_2015.csv'\n"
     ]
    }
   ],
   "source": [
    "# Check if the download was successful\n",
    "if response.status_code == 200:\n",
    "    # Load the dataset into a pandas DataFrame\n",
    "    all_seasons = pd.read_csv(StringIO(response.text))\n",
    "    \n",
    "    # Inspect the column names and unique year values\n",
    "    print(\"Available Columns:\", all_seasons.columns.tolist())\n",
    "    print(\"Unique Years in 'year_id':\", all_seasons['year_id'].unique())\n",
    "    \n",
    "    # Select only the relevant columns\n",
    "    selected_columns = ['team_id', 'year_id', 'pts', 'opp_pts', 'game_result', 'game_location']\n",
    "    filtered_all_seasons = all_seasons[selected_columns]\n",
    "    \n",
    "    # Filter for the year 2015\n",
    "    filtered_all_seasons = filtered_all_seasons[filtered_all_seasons['year_id'] == 2015]\n",
    "    \n",
    "    # Display the first few rows of the filtered dataset\n",
    "    print(filtered_all_seasons.head())\n",
    "    \n",
    "    # Check the size of the filtered dataset\n",
    "    print(f\"Filtered dataset size: {filtered_all_seasons.shape[0]} entries\")\n",
    "    \n",
    "    # Save the filtered dataset to a CSV file\n",
    "    filtered_all_seasons.to_csv(\"filtered_all_seasons_2015.csv\", index=False)\n",
    "    print(\"Filtered dataset saved as 'filtered_all_seasons_2015.csv'\")\n",
    "else:\n",
    "    print(f\"Failed to download the dataset. Status code: {response.status_code}\")"
   ]
  },
  {
   "cell_type": "markdown",
   "metadata": {},
   "source": [
    "## Dataset 2: NBA Team Stats (`seasons_stats.csv`)\n",
    "\n",
    "- **Type**: CSV File\n",
    "- **Method**: The data was manually downloaded from a public source and filtered to include only the year 2015 and relevant variables for analysis.\n",
    "\n",
    "### Dataset Variables:\n",
    "1. **Player**: Name of the player.\n",
    "2. **Year**: The season/year of the data (2015).\n",
    "3. **Team**: Team name or abbreviation.\n",
    "4. **Games Played (G)**: Total games played by the player during the season.\n",
    "5. **Points Per Game (PTS)**: Average points scored by the player per game.\n",
    "6. **Rebounds Per Game (REB)**: Average rebounds by the player per game.\n",
    "7. **Assists Per Game (AST)**: Average assists by the player per game.\n",
    "\n",
    "This dataset focuses on player-level performance metrics during the 2015 NBA season and complements the team-level data from Dataset 1, allowing for analysis of how individual performance contributes to team outcomes."
   ]
  },
  {
   "cell_type": "code",
   "execution_count": 5,
   "metadata": {},
   "outputs": [],
   "source": [
    "# Import pandas\n",
    "import pandas as pd\n",
    "# Load the manually downloaded dataset\n",
    "team_stats = pd.read_csv(\"Seasons_Stats.csv\")"
   ]
  },
  {
   "cell_type": "code",
   "execution_count": 6,
   "metadata": {},
   "outputs": [
    {
     "name": "stdout",
     "output_type": "stream",
     "text": [
      "Available Columns: ['Unnamed: 0', 'Year', 'Player', 'Pos', 'Age', 'Tm', 'G', 'GS', 'MP', 'PER', 'TS%', '3PAr', 'FTr', 'ORB%', 'DRB%', 'TRB%', 'AST%', 'STL%', 'BLK%', 'TOV%', 'USG%', 'blanl', 'OWS', 'DWS', 'WS', 'WS/48', 'blank2', 'OBPM', 'DBPM', 'BPM', 'VORP', 'FG', 'FGA', 'FG%', '3P', '3PA', '3P%', '2P', '2PA', '2P%', 'eFG%', 'FT', 'FTA', 'FT%', 'ORB', 'DRB', 'TRB', 'AST', 'STL', 'BLK', 'TOV', 'PF', 'PTS']\n",
      "   Unnamed: 0    Year           Player  Pos   Age   Tm     G  GS  MP  PER  \\\n",
      "0           0  1950.0  Curly Armstrong  G-F  31.0  FTW  63.0 NaN NaN  NaN   \n",
      "1           1  1950.0     Cliff Barker   SG  29.0  INO  49.0 NaN NaN  NaN   \n",
      "2           2  1950.0    Leo Barnhorst   SF  25.0  CHS  67.0 NaN NaN  NaN   \n",
      "3           3  1950.0       Ed Bartels    F  24.0  TOT  15.0 NaN NaN  NaN   \n",
      "4           4  1950.0       Ed Bartels    F  24.0  DNN  13.0 NaN NaN  NaN   \n",
      "\n",
      "   ...    FT%  ORB  DRB  TRB    AST  STL  BLK  TOV     PF    PTS  \n",
      "0  ...  0.705  NaN  NaN  NaN  176.0  NaN  NaN  NaN  217.0  458.0  \n",
      "1  ...  0.708  NaN  NaN  NaN  109.0  NaN  NaN  NaN   99.0  279.0  \n",
      "2  ...  0.698  NaN  NaN  NaN  140.0  NaN  NaN  NaN  192.0  438.0  \n",
      "3  ...  0.559  NaN  NaN  NaN   20.0  NaN  NaN  NaN   29.0   63.0  \n",
      "4  ...  0.548  NaN  NaN  NaN   20.0  NaN  NaN  NaN   27.0   59.0  \n",
      "\n",
      "[5 rows x 53 columns]\n",
      "              Player    Year   Tm     G     PTS    TRB    AST\n",
      "22865     Quincy Acy  2015.0  NYK  68.0   398.0  301.0   68.0\n",
      "22866   Jordan Adams  2015.0  MEM  30.0    94.0   28.0   16.0\n",
      "22867   Steven Adams  2015.0  OKC  70.0   537.0  523.0   66.0\n",
      "22868    Jeff Adrien  2015.0  MIN  17.0    60.0   77.0   15.0\n",
      "22869  Arron Afflalo  2015.0  TOT  78.0  1035.0  247.0  129.0\n",
      "Filtered dataset size: 651 entries\n",
      "Filtered dataset saved as 'filtered_team_stats_2015.csv'\n"
     ]
    }
   ],
   "source": [
    "# Inspect the first few rows to verify the structure\n",
    "print(\"Available Columns:\", team_stats.columns.tolist())\n",
    "print(team_stats.head())\n",
    "\n",
    "# Filter for the year 2015\n",
    "team_stats_2015 = team_stats[team_stats['Year'] == 2015]\n",
    "\n",
    "# Select only the relevant columns\n",
    "selected_columns = ['Player', 'Year', 'Tm', 'G', 'PTS', 'TRB', 'AST']\n",
    "filtered_team_stats = team_stats_2015[selected_columns]\n",
    "\n",
    "# Display the first few rows of the filtered dataset\n",
    "print(filtered_team_stats.head())\n",
    "\n",
    "# Check the size of the filtered dataset\n",
    "print(f\"Filtered dataset size: {filtered_team_stats.shape[0]} entries\")\n",
    "\n",
    "# Save the filtered dataset to a CSV file\n",
    "filtered_team_stats.to_csv(\"filtered_team_stats_2015.csv\", index=False)\n",
    "print(\"Filtered dataset saved as 'filtered_team_stats_2015.csv'\")"
   ]
  },
  {
   "cell_type": "markdown",
   "metadata": {
    "id": "QwSWIVmotLgV"
   },
   "source": [
    "## 2. Assess data"
   ]
  },
  {
   "cell_type": "markdown",
   "metadata": {
    "id": "adaK2iPNzVu4"
   },
   "source": [
    "## Dataset 1"
   ]
  },
  {
   "cell_type": "code",
   "execution_count": 7,
   "metadata": {},
   "outputs": [
    {
     "data": {
      "text/html": [
       "<div>\n",
       "<style scoped>\n",
       "    .dataframe tbody tr th:only-of-type {\n",
       "        vertical-align: middle;\n",
       "    }\n",
       "\n",
       "    .dataframe tbody tr th {\n",
       "        vertical-align: top;\n",
       "    }\n",
       "\n",
       "    .dataframe thead th {\n",
       "        text-align: right;\n",
       "    }\n",
       "</style>\n",
       "<table border=\"1\" class=\"dataframe\">\n",
       "  <thead>\n",
       "    <tr style=\"text-align: right;\">\n",
       "      <th></th>\n",
       "      <th>team_id</th>\n",
       "      <th>year_id</th>\n",
       "      <th>pts</th>\n",
       "      <th>opp_pts</th>\n",
       "      <th>game_result</th>\n",
       "      <th>game_location</th>\n",
       "    </tr>\n",
       "  </thead>\n",
       "  <tbody>\n",
       "    <tr>\n",
       "      <th>0</th>\n",
       "      <td>HOU</td>\n",
       "      <td>2015</td>\n",
       "      <td>108</td>\n",
       "      <td>90</td>\n",
       "      <td>W</td>\n",
       "      <td>A</td>\n",
       "    </tr>\n",
       "    <tr>\n",
       "      <th>1</th>\n",
       "      <td>LAL</td>\n",
       "      <td>2015</td>\n",
       "      <td>90</td>\n",
       "      <td>108</td>\n",
       "      <td>L</td>\n",
       "      <td>H</td>\n",
       "    </tr>\n",
       "    <tr>\n",
       "      <th>2</th>\n",
       "      <td>NOP</td>\n",
       "      <td>2015</td>\n",
       "      <td>101</td>\n",
       "      <td>84</td>\n",
       "      <td>W</td>\n",
       "      <td>H</td>\n",
       "    </tr>\n",
       "    <tr>\n",
       "      <th>3</th>\n",
       "      <td>ORL</td>\n",
       "      <td>2015</td>\n",
       "      <td>84</td>\n",
       "      <td>101</td>\n",
       "      <td>L</td>\n",
       "      <td>A</td>\n",
       "    </tr>\n",
       "    <tr>\n",
       "      <th>4</th>\n",
       "      <td>SAS</td>\n",
       "      <td>2015</td>\n",
       "      <td>101</td>\n",
       "      <td>100</td>\n",
       "      <td>W</td>\n",
       "      <td>H</td>\n",
       "    </tr>\n",
       "  </tbody>\n",
       "</table>\n",
       "</div>"
      ],
      "text/plain": [
       "  team_id  year_id  pts  opp_pts game_result game_location\n",
       "0     HOU     2015  108       90           W             A\n",
       "1     LAL     2015   90      108           L             H\n",
       "2     NOP     2015  101       84           W             H\n",
       "3     ORL     2015   84      101           L             A\n",
       "4     SAS     2015  101      100           W             H"
      ]
     },
     "execution_count": 7,
     "metadata": {},
     "output_type": "execute_result"
    }
   ],
   "source": [
    "# Visual inspection of Dataset 1\n",
    "import pandas as pd\n",
    "all_seasons_2015 = pd.read_csv(\"filtered_all_seasons_2015.csv\")\n",
    "all_seasons_2015.head()"
   ]
  },
  {
   "cell_type": "code",
   "execution_count": 8,
   "metadata": {},
   "outputs": [
    {
     "name": "stdout",
     "output_type": "stream",
     "text": [
      "<class 'pandas.core.frame.DataFrame'>\n",
      "RangeIndex: 2622 entries, 0 to 2621\n",
      "Data columns (total 6 columns):\n",
      " #   Column         Non-Null Count  Dtype \n",
      "---  ------         --------------  ----- \n",
      " 0   team_id        2622 non-null   object\n",
      " 1   year_id        2622 non-null   int64 \n",
      " 2   pts            2622 non-null   int64 \n",
      " 3   opp_pts        2622 non-null   int64 \n",
      " 4   game_result    2622 non-null   object\n",
      " 5   game_location  2622 non-null   object\n",
      "dtypes: int64(3), object(3)\n",
      "memory usage: 123.0+ KB\n"
     ]
    }
   ],
   "source": [
    "all_seasons_2015.info()"
   ]
  },
  {
   "cell_type": "markdown",
   "metadata": {},
   "source": [
    "### Visual Inspection Results\n",
    "\n",
    "- The dataset contains **2,622 entries** and **6 columns**: `team_id`, `year_id`, `pts`, `opp_pts`, `game_result`, and `game_location`.\n",
    "- All columns appear to have **non-null values**, but we need to programmatically check for potential null-like placeholders (e.g., empty strings or special symbols) that may not be recognized as `NaN`.\n",
    "- Column data types seem appropriate for their content:\n",
    "  - `year_id`, `pts`, and `opp_pts` are integers.\n",
    "  - `team_id`, `game_result`, and `game_location` are objects (likely strings).\n",
    "- Next, we will inspect for missing values or invalid entries in the dataset programmatically."
   ]
  },
  {
   "cell_type": "code",
   "execution_count": 9,
   "metadata": {},
   "outputs": [
    {
     "name": "stdout",
     "output_type": "stream",
     "text": [
      "Missing Values:\n",
      " team_id          0\n",
      "year_id          0\n",
      "pts              0\n",
      "opp_pts          0\n",
      "game_result      0\n",
      "game_location    0\n",
      "dtype: int64\n"
     ]
    }
   ],
   "source": [
    "# Check for missing values in the dataset\n",
    "missing_values = all_seasons_2015.isnull().sum()\n",
    "print(\"Missing Values:\\n\", missing_values)"
   ]
  },
  {
   "cell_type": "code",
   "execution_count": 10,
   "metadata": {},
   "outputs": [
    {
     "name": "stdout",
     "output_type": "stream",
     "text": [
      "\n",
      "Null-like Placeholder Values:\n",
      " team_id          0\n",
      "year_id          0\n",
      "pts              0\n",
      "opp_pts          0\n",
      "game_result      0\n",
      "game_location    0\n",
      "dtype: int64\n"
     ]
    }
   ],
   "source": [
    "# Check for null-like placeholders (empty strings, unusual symbols)\n",
    "placeholder_values = (all_seasons_2015 == '').sum()\n",
    "print(\"\\nNull-like Placeholder Values:\\n\", placeholder_values)"
   ]
  },
  {
   "cell_type": "markdown",
   "metadata": {},
   "source": [
    "### Programmatic Inspection for Missing or Invalid Data\n",
    "\n",
    "- **Missing Values**:\n",
    "  - No missing values (`NaN`) were detected in any column using `.isnull().sum()`.\n",
    "- **Null-like Placeholders**:\n",
    "  - No empty strings (`''`) or similar placeholders were detected in any column."
   ]
  },
  {
   "cell_type": "code",
   "execution_count": 11,
   "metadata": {
    "scrolled": true
   },
   "outputs": [
    {
     "name": "stdout",
     "output_type": "stream",
     "text": [
      "\n",
      "Statistical Summary of Numerical Columns:\n",
      "        year_id          pts      opp_pts\n",
      "count   2622.0  2622.000000  2622.000000\n",
      "mean    2015.0   100.047292   100.047292\n",
      "std        0.0    11.765905    11.765905\n",
      "min     2015.0    65.000000    65.000000\n",
      "25%     2015.0    92.000000    92.000000\n",
      "50%     2015.0   100.000000   100.000000\n",
      "75%     2015.0   107.000000   107.000000\n",
      "max     2015.0   144.000000   144.000000\n"
     ]
    }
   ],
   "source": [
    "# Statistical summary to check for inconsistencies in numerical data\n",
    "print(\"\\nStatistical Summary of Numerical Columns:\\n\", all_seasons_2015.describe())"
   ]
  },
  {
   "cell_type": "markdown",
   "metadata": {},
   "source": [
    "- **Statistical Summary**:\n",
    "  - The `pts` (points scored) and `opp_pts` (opponent points) columns seem reasonable:\n",
    "    - Minimum: 65 points (likely a low-scoring game).\n",
    "    - Maximum: 144 points (a high-scoring game).\n",
    "    - Mean: Approximately 100 points, which aligns with typical NBA scoring averages.\n",
    "  - The `year_id` column correctly shows a single year (2015) for all entries, confirming that our filtering was accurate."
   ]
  },
  {
   "cell_type": "code",
   "execution_count": 12,
   "metadata": {
    "scrolled": true
   },
   "outputs": [
    {
     "data": {
      "text/html": [
       "<div>\n",
       "<style scoped>\n",
       "    .dataframe tbody tr th:only-of-type {\n",
       "        vertical-align: middle;\n",
       "    }\n",
       "\n",
       "    .dataframe tbody tr th {\n",
       "        vertical-align: top;\n",
       "    }\n",
       "\n",
       "    .dataframe thead th {\n",
       "        text-align: right;\n",
       "    }\n",
       "</style>\n",
       "<table border=\"1\" class=\"dataframe\">\n",
       "  <thead>\n",
       "    <tr style=\"text-align: right;\">\n",
       "      <th></th>\n",
       "      <th>team_id</th>\n",
       "      <th>year_id</th>\n",
       "      <th>pts</th>\n",
       "      <th>opp_pts</th>\n",
       "      <th>game_result</th>\n",
       "      <th>game_location</th>\n",
       "    </tr>\n",
       "  </thead>\n",
       "  <tbody>\n",
       "    <tr>\n",
       "      <th>1437</th>\n",
       "      <td>NOP</td>\n",
       "      <td>2015</td>\n",
       "      <td>115</td>\n",
       "      <td>100</td>\n",
       "      <td>W</td>\n",
       "      <td>H</td>\n",
       "    </tr>\n",
       "    <tr>\n",
       "      <th>430</th>\n",
       "      <td>MEM</td>\n",
       "      <td>2015</td>\n",
       "      <td>99</td>\n",
       "      <td>93</td>\n",
       "      <td>W</td>\n",
       "      <td>A</td>\n",
       "    </tr>\n",
       "    <tr>\n",
       "      <th>821</th>\n",
       "      <td>DAL</td>\n",
       "      <td>2015</td>\n",
       "      <td>102</td>\n",
       "      <td>105</td>\n",
       "      <td>L</td>\n",
       "      <td>H</td>\n",
       "    </tr>\n",
       "    <tr>\n",
       "      <th>409</th>\n",
       "      <td>CHI</td>\n",
       "      <td>2015</td>\n",
       "      <td>109</td>\n",
       "      <td>114</td>\n",
       "      <td>L</td>\n",
       "      <td>A</td>\n",
       "    </tr>\n",
       "    <tr>\n",
       "      <th>1417</th>\n",
       "      <td>MIL</td>\n",
       "      <td>2015</td>\n",
       "      <td>95</td>\n",
       "      <td>88</td>\n",
       "      <td>W</td>\n",
       "      <td>H</td>\n",
       "    </tr>\n",
       "    <tr>\n",
       "      <th>58</th>\n",
       "      <td>LAL</td>\n",
       "      <td>2015</td>\n",
       "      <td>104</td>\n",
       "      <td>127</td>\n",
       "      <td>L</td>\n",
       "      <td>A</td>\n",
       "    </tr>\n",
       "    <tr>\n",
       "      <th>723</th>\n",
       "      <td>TOR</td>\n",
       "      <td>2015</td>\n",
       "      <td>95</td>\n",
       "      <td>82</td>\n",
       "      <td>W</td>\n",
       "      <td>H</td>\n",
       "    </tr>\n",
       "    <tr>\n",
       "      <th>2435</th>\n",
       "      <td>ATL</td>\n",
       "      <td>2015</td>\n",
       "      <td>85</td>\n",
       "      <td>91</td>\n",
       "      <td>L</td>\n",
       "      <td>A</td>\n",
       "    </tr>\n",
       "    <tr>\n",
       "      <th>449</th>\n",
       "      <td>CHO</td>\n",
       "      <td>2015</td>\n",
       "      <td>101</td>\n",
       "      <td>106</td>\n",
       "      <td>L</td>\n",
       "      <td>H</td>\n",
       "    </tr>\n",
       "    <tr>\n",
       "      <th>887</th>\n",
       "      <td>NOP</td>\n",
       "      <td>2015</td>\n",
       "      <td>100</td>\n",
       "      <td>107</td>\n",
       "      <td>L</td>\n",
       "      <td>A</td>\n",
       "    </tr>\n",
       "  </tbody>\n",
       "</table>\n",
       "</div>"
      ],
      "text/plain": [
       "     team_id  year_id  pts  opp_pts game_result game_location\n",
       "1437     NOP     2015  115      100           W             H\n",
       "430      MEM     2015   99       93           W             A\n",
       "821      DAL     2015  102      105           L             H\n",
       "409      CHI     2015  109      114           L             A\n",
       "1417     MIL     2015   95       88           W             H\n",
       "58       LAL     2015  104      127           L             A\n",
       "723      TOR     2015   95       82           W             H\n",
       "2435     ATL     2015   85       91           L             A\n",
       "449      CHO     2015  101      106           L             H\n",
       "887      NOP     2015  100      107           L             A"
      ]
     },
     "execution_count": 12,
     "metadata": {},
     "output_type": "execute_result"
    }
   ],
   "source": [
    "# Visually inspect for potential duplicate rows by sampling the data\n",
    "all_seasons_2015.sample(10)"
   ]
  },
  {
   "cell_type": "code",
   "execution_count": 13,
   "metadata": {},
   "outputs": [
    {
     "name": "stdout",
     "output_type": "stream",
     "text": [
      "Number of duplicate rows: 49\n",
      "\n",
      "Examples of duplicate rows:\n",
      "     team_id  year_id  pts  opp_pts game_result game_location\n",
      "94      HOU     2015  104       93           W             A\n",
      "148     DET     2015   98       95           W             H\n",
      "404     TOR     2015  104      100           W             H\n",
      "793     LAC     2015  106      102           W             H\n",
      "906     DAL     2015  112      107           W             H\n"
     ]
    }
   ],
   "source": [
    "# Count duplicate rows in the dataset\n",
    "duplicate_rows = all_seasons_2015.duplicated().sum()\n",
    "print(\"Number of duplicate rows:\", duplicate_rows)\n",
    "\n",
    "# Display examples of duplicate rows (if any)\n",
    "duplicate_examples = all_seasons_2015[all_seasons_2015.duplicated()]\n",
    "print(\"\\nExamples of duplicate rows:\\n\", duplicate_examples.head())"
   ]
  },
  {
   "cell_type": "markdown",
   "metadata": {},
   "source": [
    "### Quality Issue 1: Duplicate Rows\n",
    "\n",
    "#### Type: Uniqueness\n",
    "\n",
    "#### Inspecting the Dataframe Visually:\n",
    "- By sampling the dataset (`sample(10)`), no obvious duplicates were visible. Duplicate rows are often not easily noticeable in large datasets without programmatic checks.\n",
    "\n",
    "#### Inspecting the Dataframe Programmatically:\n",
    "- Using `.duplicated().sum()`, we identified **49 duplicate rows** in the dataset.\n",
    "- Examples of duplicate rows were extracted, showing repeated records for teams like `HOU`, `DET`, and `DAL`.\n",
    "\n",
    "#### Issue and Justification:\n",
    "Duplicate rows are a data quality issue because they can bias analysis by inflating aggregated metrics (e.g., total points scored). Programmatic methods like `.duplicated()` are essential to detect such issues in large datasets efficiently. Removing duplicates in the cleaning step will ensure accurate and reliable analysis."
   ]
  },
  {
   "cell_type": "code",
   "execution_count": 14,
   "metadata": {
    "scrolled": false
   },
   "outputs": [
    {
     "name": "stdout",
     "output_type": "stream",
     "text": [
      "Column Names: ['team_id', 'year_id', 'pts', 'opp_pts', 'game_result', 'game_location']\n"
     ]
    }
   ],
   "source": [
    "# Check column names Visually\n",
    "print(\"Column Names:\", all_seasons_2015.columns.tolist())"
   ]
  },
  {
   "cell_type": "code",
   "execution_count": 15,
   "metadata": {
    "scrolled": true
   },
   "outputs": [
    {
     "name": "stdout",
     "output_type": "stream",
     "text": [
      "\n",
      "Sample values from 'team_id':\n",
      " 2024    TOR\n",
      "2448    MIL\n",
      "567     SAC\n",
      "967     DAL\n",
      "1478    CHO\n",
      "1170    MIL\n",
      "1330    MIL\n",
      "93      MEM\n",
      "247     PHI\n",
      "1914    CHI\n",
      "Name: team_id, dtype: object\n"
     ]
    }
   ],
   "source": [
    "# Inspect values in the 'team_id' column Programmatically\n",
    "print(\"\\nSample values from 'team_id':\\n\", all_seasons_2015['team_id'].sample(10))"
   ]
  },
  {
   "cell_type": "markdown",
   "metadata": {},
   "source": [
    "### Quality Issue 2: Unclear Column Naming\n",
    "\n",
    "#### Type: Consistency\n",
    "\n",
    "#### Inspecting the Dataframe Visually:\n",
    "- The column names were inspected using `.columns.tolist()`. The `team_id` column name is not explicit and may lead to confusion. It represents team abbreviations (e.g., `HOU` for Houston Rockets, `LAL` for Los Angeles Lakers), but the name implies it might contain unique numeric team identifiers.\n",
    "\n",
    "#### Inspecting the Dataframe Programmatically:\n",
    "- A sample of values from the `team_id` column was extracted. Examples include `TOR`, `BRK`, and `MIN`, which are team abbreviations.\n",
    "- These values confirm that the column does not contain unique identifiers but rather team codes. The current name does not clearly describe its purpose.\n",
    "\n",
    "#### Issue and Justification:\n",
    "- The name `team_id` is misleading, as it does not reflect the fact that the column contains team abbreviations. Renaming this column to `team_abbreviation` would make it more descriptive and user-friendly.\n",
    "- Clear column names reduce ambiguity and improve the interpretability of the dataset, especially when integrating with other datasets or performing analysis."
   ]
  },
  {
   "cell_type": "code",
   "execution_count": 16,
   "metadata": {},
   "outputs": [
    {
     "name": "stdout",
     "output_type": "stream",
     "text": [
      "Column Names: ['team_id', 'year_id', 'pts', 'opp_pts', 'game_result', 'game_location']\n",
      "\n",
      "Sample Rows:\n",
      "      team_id  year_id  pts  opp_pts game_result game_location\n",
      "134      WAS     2015   96       94           W             H\n",
      "2558     CHI     2015   99       96           W             H\n",
      "2194     SAS     2015  103       89           W             H\n",
      "2212     BRK     2015  111      106           W             H\n",
      "1087     MEM     2015   95      106           L             A\n"
     ]
    }
   ],
   "source": [
    "# Visually\n",
    "# Display the column names\n",
    "print(\"Column Names:\", all_seasons_2015.columns.tolist())\n",
    "\n",
    "# Display a random sample of rows to ensure variables are stored in columns\n",
    "print(\"\\nSample Rows:\\n\", all_seasons_2015.sample(5))"
   ]
  },
  {
   "cell_type": "code",
   "execution_count": 17,
   "metadata": {},
   "outputs": [
    {
     "name": "stdout",
     "output_type": "stream",
     "text": [
      "Unique values in 'game_result': ['W' 'L']\n",
      "Unique values in 'game_location': ['A' 'H' 'N']\n"
     ]
    }
   ],
   "source": [
    "# Programmatically\n",
    "# Check unique values in game_result and game_location to confirm their structure\n",
    "print(\"Unique values in 'game_result':\", all_seasons_2015['game_result'].unique())\n",
    "print(\"Unique values in 'game_location':\", all_seasons_2015['game_location'].unique())"
   ]
  },
  {
   "cell_type": "markdown",
   "metadata": {},
   "source": [
    "### Tidiness Issue 1: Ambiguous Abbreviations in 'game_location'\n",
    "\n",
    "#### Rule Violated: Each variable forms a column\n",
    "\n",
    "#### Inspecting the Dataframe Visually:\n",
    "- The `game_location` column uses abbreviations (`A`, `H`, `N`) to represent Away, Home, and Neutral game locations. These abbreviations were identified during visual and programmatic checks.\n",
    "\n",
    "#### Inspecting the Dataframe Programmatically:\n",
    "- The unique values in the column were inspected using `.unique()`. The results confirm the presence of three values: `['A', 'H', 'N']`.\n",
    "\n",
    "#### Issue and Justification:\n",
    "- While the column represents a single variable, the use of abbreviations may be unclear to some users and could cause misinterpretation. Expanding these values into full names (`Away`, `Home`, `Neutral`) would improve readability and make the dataset more user-friendly."
   ]
  },
  {
   "cell_type": "code",
   "execution_count": 18,
   "metadata": {},
   "outputs": [
    {
     "name": "stdout",
     "output_type": "stream",
     "text": [
      "Column Names: ['team_id', 'year_id', 'pts', 'opp_pts', 'game_result', 'game_location']\n"
     ]
    }
   ],
   "source": [
    "# Display the column names Visually\n",
    "print(\"Column Names:\", all_seasons_2015.columns.tolist())"
   ]
  },
  {
   "cell_type": "code",
   "execution_count": 19,
   "metadata": {},
   "outputs": [
    {
     "name": "stdout",
     "output_type": "stream",
     "text": [
      "\n",
      "Sample Rows:\n",
      "      team_id  year_id  pts  opp_pts game_result game_location\n",
      "1156     DET     2015   94      105           L             H\n",
      "2172     ATL     2015  100      115           L             A\n",
      "2070     ATL     2015   95      114           L             H\n",
      "2546     CHI     2015   99       92           W             A\n",
      "541      TOR     2015  123      104           W             A\n"
     ]
    }
   ],
   "source": [
    "# Display a random sample of rows Visually\n",
    "print(\"\\nSample Rows:\\n\", all_seasons_2015.sample(5))"
   ]
  },
  {
   "cell_type": "code",
   "execution_count": 20,
   "metadata": {},
   "outputs": [
    {
     "name": "stdout",
     "output_type": "stream",
     "text": [
      "Number of unique teams: 30\n"
     ]
    }
   ],
   "source": [
    "# Programmatically\n",
    "# Count unique teams and total rows to confirm game-level granularity\n",
    "unique_teams = all_seasons_2015['team_id'].nunique()\n",
    "print(\"Number of unique teams:\", unique_teams)"
   ]
  },
  {
   "cell_type": "code",
   "execution_count": 21,
   "metadata": {},
   "outputs": [
    {
     "name": "stdout",
     "output_type": "stream",
     "text": [
      "Total rows in dataset: 2622\n"
     ]
    }
   ],
   "source": [
    "# Count total rows\n",
    "total_rows = all_seasons_2015.shape[0]\n",
    "print(\"Total rows in dataset:\", total_rows)"
   ]
  },
  {
   "cell_type": "code",
   "execution_count": 22,
   "metadata": {
    "scrolled": true
   },
   "outputs": [
    {
     "name": "stdout",
     "output_type": "stream",
     "text": [
      "\n",
      "Sample of rows per team:\n",
      " team_id\n",
      "ATL    98\n",
      "BOS    86\n",
      "BRK    88\n",
      "CHI    94\n",
      "CHO    82\n",
      "dtype: int64\n"
     ]
    }
   ],
   "source": [
    "# Check how many rows exist per team\n",
    "rows_per_team = all_seasons_2015.groupby('team_id').size()\n",
    "print(\"\\nSample of rows per team:\\n\", rows_per_team.head())"
   ]
  },
  {
   "cell_type": "markdown",
   "metadata": {},
   "source": [
    "### Tidiness Issue 2: Single Observational Unit (Team-Level)\n",
    "\n",
    "#### Rule Violated: Each type of observational unit forms a table\n",
    "\n",
    "#### Inspecting the Dataframe Visually:\n",
    "- By sampling the rows and reviewing columns (`team_id`, `pts`, `opp_pts`, `game_result`), it is evident that the dataset represents team-level statistics, with each row corresponding to a single game.\n",
    "\n",
    "#### Inspecting the Dataframe Programmatically:\n",
    "- The dataset contains 30 unique teams (`team_id`), which matches the structure of the NBA.\n",
    "- The total number of rows is 2,622, indicating multiple rows per team (one for each game).\n",
    "- Grouped analysis of `rows_per_team` shows that each team has multiple entries, confirming team-level granularity.\n",
    "\n",
    "#### Issue and Justification:\n",
    "- This dataset exclusively represents **team-level statistics**. If merged with player-level data in the future, it will mix different observational units (team vs. player), requiring careful handling to maintain clarity in granularity."
   ]
  },
  {
   "cell_type": "markdown",
   "metadata": {
    "id": "8Be77N4I1AmE"
   },
   "source": [
    "## Dataset 2"
   ]
  },
  {
   "cell_type": "code",
   "execution_count": 23,
   "metadata": {},
   "outputs": [],
   "source": [
    "# Load Dataset 2\n",
    "team_stats_2015 = pd.read_csv(\"filtered_team_stats_2015.csv\")"
   ]
  },
  {
   "cell_type": "code",
   "execution_count": 24,
   "metadata": {},
   "outputs": [
    {
     "data": {
      "text/html": [
       "<div>\n",
       "<style scoped>\n",
       "    .dataframe tbody tr th:only-of-type {\n",
       "        vertical-align: middle;\n",
       "    }\n",
       "\n",
       "    .dataframe tbody tr th {\n",
       "        vertical-align: top;\n",
       "    }\n",
       "\n",
       "    .dataframe thead th {\n",
       "        text-align: right;\n",
       "    }\n",
       "</style>\n",
       "<table border=\"1\" class=\"dataframe\">\n",
       "  <thead>\n",
       "    <tr style=\"text-align: right;\">\n",
       "      <th></th>\n",
       "      <th>Player</th>\n",
       "      <th>Year</th>\n",
       "      <th>Tm</th>\n",
       "      <th>G</th>\n",
       "      <th>PTS</th>\n",
       "      <th>TRB</th>\n",
       "      <th>AST</th>\n",
       "    </tr>\n",
       "  </thead>\n",
       "  <tbody>\n",
       "    <tr>\n",
       "      <th>0</th>\n",
       "      <td>Quincy Acy</td>\n",
       "      <td>2015.0</td>\n",
       "      <td>NYK</td>\n",
       "      <td>68.0</td>\n",
       "      <td>398.0</td>\n",
       "      <td>301.0</td>\n",
       "      <td>68.0</td>\n",
       "    </tr>\n",
       "    <tr>\n",
       "      <th>1</th>\n",
       "      <td>Jordan Adams</td>\n",
       "      <td>2015.0</td>\n",
       "      <td>MEM</td>\n",
       "      <td>30.0</td>\n",
       "      <td>94.0</td>\n",
       "      <td>28.0</td>\n",
       "      <td>16.0</td>\n",
       "    </tr>\n",
       "    <tr>\n",
       "      <th>2</th>\n",
       "      <td>Steven Adams</td>\n",
       "      <td>2015.0</td>\n",
       "      <td>OKC</td>\n",
       "      <td>70.0</td>\n",
       "      <td>537.0</td>\n",
       "      <td>523.0</td>\n",
       "      <td>66.0</td>\n",
       "    </tr>\n",
       "    <tr>\n",
       "      <th>3</th>\n",
       "      <td>Jeff Adrien</td>\n",
       "      <td>2015.0</td>\n",
       "      <td>MIN</td>\n",
       "      <td>17.0</td>\n",
       "      <td>60.0</td>\n",
       "      <td>77.0</td>\n",
       "      <td>15.0</td>\n",
       "    </tr>\n",
       "    <tr>\n",
       "      <th>4</th>\n",
       "      <td>Arron Afflalo</td>\n",
       "      <td>2015.0</td>\n",
       "      <td>TOT</td>\n",
       "      <td>78.0</td>\n",
       "      <td>1035.0</td>\n",
       "      <td>247.0</td>\n",
       "      <td>129.0</td>\n",
       "    </tr>\n",
       "  </tbody>\n",
       "</table>\n",
       "</div>"
      ],
      "text/plain": [
       "          Player    Year   Tm     G     PTS    TRB    AST\n",
       "0     Quincy Acy  2015.0  NYK  68.0   398.0  301.0   68.0\n",
       "1   Jordan Adams  2015.0  MEM  30.0    94.0   28.0   16.0\n",
       "2   Steven Adams  2015.0  OKC  70.0   537.0  523.0   66.0\n",
       "3    Jeff Adrien  2015.0  MIN  17.0    60.0   77.0   15.0\n",
       "4  Arron Afflalo  2015.0  TOT  78.0  1035.0  247.0  129.0"
      ]
     },
     "execution_count": 24,
     "metadata": {},
     "output_type": "execute_result"
    }
   ],
   "source": [
    "# Visual inspection\n",
    "team_stats_2015.head()"
   ]
  },
  {
   "cell_type": "code",
   "execution_count": 25,
   "metadata": {
    "scrolled": true
   },
   "outputs": [
    {
     "name": "stdout",
     "output_type": "stream",
     "text": [
      "<class 'pandas.core.frame.DataFrame'>\n",
      "RangeIndex: 651 entries, 0 to 650\n",
      "Data columns (total 7 columns):\n",
      " #   Column  Non-Null Count  Dtype  \n",
      "---  ------  --------------  -----  \n",
      " 0   Player  651 non-null    object \n",
      " 1   Year    651 non-null    float64\n",
      " 2   Tm      651 non-null    object \n",
      " 3   G       651 non-null    float64\n",
      " 4   PTS     651 non-null    float64\n",
      " 5   TRB     651 non-null    float64\n",
      " 6   AST     651 non-null    float64\n",
      "dtypes: float64(5), object(2)\n",
      "memory usage: 35.7+ KB\n"
     ]
    }
   ],
   "source": [
    "team_stats_2015.info()"
   ]
  },
  {
   "cell_type": "markdown",
   "metadata": {},
   "source": [
    "### Visual Inspection Results\n",
    "\n",
    "- The dataset contains **651 entries** and **7 columns**: `Player`, `Year`, `Tm`, `G`, `PTS`, `TRB`, and `AST`.\n",
    "- All columns appear to have **non-null values** based on the `.info()` output.\n",
    "- Column data types seem appropriate for their content:\n",
    "  - `Player` and `Tm` are objects (likely strings).\n",
    "  - `Year`, `G`, `PTS`, `TRB`, and `AST` are numeric (floats).\n",
    "- Initial inspection of the rows confirms the dataset contains **player-level statistics for the 2015 season**."
   ]
  },
  {
   "cell_type": "code",
   "execution_count": 26,
   "metadata": {},
   "outputs": [
    {
     "name": "stdout",
     "output_type": "stream",
     "text": [
      "Missing Values:\n",
      " Player    0\n",
      "Year      0\n",
      "Tm        0\n",
      "G         0\n",
      "PTS       0\n",
      "TRB       0\n",
      "AST       0\n",
      "dtype: int64\n"
     ]
    }
   ],
   "source": [
    "# Check for missing values in the dataset\n",
    "missing_values = team_stats_2015.isnull().sum()\n",
    "print(\"Missing Values:\\n\", missing_values)"
   ]
  },
  {
   "cell_type": "code",
   "execution_count": 27,
   "metadata": {},
   "outputs": [
    {
     "name": "stdout",
     "output_type": "stream",
     "text": [
      "\n",
      "Number of duplicate rows: 0\n"
     ]
    }
   ],
   "source": [
    "# Check for duplicate rows\n",
    "duplicate_rows = team_stats_2015.duplicated().sum()\n",
    "print(\"\\nNumber of duplicate rows:\", duplicate_rows)"
   ]
  },
  {
   "cell_type": "markdown",
   "metadata": {},
   "source": [
    "### Programmatic Inspection Results\n",
    "\n",
    "- **Missing Values**:\n",
    "  - No missing values (`NaN`) were detected in any column using `.isnull().sum()`.\n",
    "\n",
    "- **Duplicate Rows**:\n",
    "  - No duplicate rows were identified in the dataset using `.duplicated().sum()`.\n",
    "\n",
    "The dataset appears clean with respect to missing values and duplicates. Next, we will inspect the consistency of numerical values and other potential quality issues."
   ]
  },
  {
   "cell_type": "code",
   "execution_count": 28,
   "metadata": {},
   "outputs": [
    {
     "name": "stdout",
     "output_type": "stream",
     "text": [
      "Statistical Summary of Numeric Columns:\n",
      "          Year           G          PTS          TRB         AST\n",
      "count   651.0  651.000000   651.000000   651.000000  651.000000\n",
      "mean   2015.0   45.960061   428.067588   183.712750   95.960061\n",
      "std       0.0   25.503151   401.564362   181.471919  116.919926\n",
      "min    2015.0    1.000000     0.000000     0.000000    0.000000\n",
      "25%    2015.0   24.000000    90.000000    40.000000   15.000000\n",
      "50%    2015.0   48.000000   308.000000   138.000000   57.000000\n",
      "75%    2015.0   70.000000   658.000000   262.000000  132.500000\n",
      "max    2015.0   83.000000  2217.000000  1226.000000  838.000000\n"
     ]
    }
   ],
   "source": [
    "# Display statistical summary of numeric columns\n",
    "print(\"Statistical Summary of Numeric Columns:\\n\", team_stats_2015.describe())"
   ]
  },
  {
   "cell_type": "markdown",
   "metadata": {},
   "source": [
    "### Statistical Summary Results\n",
    "\n",
    "#### Observations:\n",
    "1. **Games Played (`G`)**:\n",
    "   - Minimum: 1 game.\n",
    "   - Maximum: 83 games (which is slightly unusual as NBA teams typically play up to 82 games in a season, suggesting this might include playoffs or an anomaly).\n",
    "\n",
    "2. **Points (`PTS`)**:\n",
    "   - Minimum: 0 points, likely indicating players with minimal game time or no scoring contributions.\n",
    "   - Maximum: 2,217 points, which aligns with high-performing players.\n",
    "\n",
    "3. **Rebounds (`TRB`)**:\n",
    "   - Minimum: 0 rebounds.\n",
    "   - Maximum: 1,226 rebounds, which is reasonable for a player over a season.\n",
    "\n",
    "4. **Assists (`AST`)**:\n",
    "   - Minimum: 0 assists.\n",
    "   - Maximum: 838 assists, which aligns with expectations for top-performing playmakers.\n",
    "\n",
    "#### Issue and Justification:\n",
    "- The statistical ranges appear reasonable for most columns. However, the `G` column shows a maximum value of 83 games, which might indicate an anomaly or inclusion of playoff data that needs verification."
   ]
  },
  {
   "cell_type": "code",
   "execution_count": 29,
   "metadata": {},
   "outputs": [
    {
     "name": "stdout",
     "output_type": "stream",
     "text": [
      "Rows with games played (G) exceeding 82:\n",
      "          Player    Year   Tm     G     PTS    TRB    AST\n",
      "546  Josh Smith  2015.0  TOT  83.0  1027.0  530.0  277.0\n"
     ]
    }
   ],
   "source": [
    "# Investigate rows where games played (G) exceed 82\n",
    "games_above_82 = team_stats_2015[team_stats_2015['G'] > 82]\n",
    "print(\"Rows with games played (G) exceeding 82:\\n\", games_above_82)"
   ]
  },
  {
   "cell_type": "markdown",
   "metadata": {},
   "source": [
    "### Quality Issue 1: Anomaly in Games Played (`G`) Column\n",
    "\n",
    "#### Type: Validity\n",
    "\n",
    "#### Inspecting the Dataframe Programmatically:\n",
    "- One player (`Josh Smith`) has **83 games played**, which exceeds the standard 82 games in an NBA regular season.\n",
    "- This anomaly might be due to:\n",
    "  1. Trade-related overlaps where the player switched teams mid-season.\n",
    "  2. Inclusion of playoff games, which are usually excluded from regular-season statistics.\n",
    "\n",
    "#### Issue and Justification:\n",
    "- The presence of a game count exceeding 82 requires clarification to ensure consistent interpretation of the `G` column. If playoff games are included, they should either be explicitly documented or separated from regular-season statistics."
   ]
  },
  {
   "cell_type": "code",
   "execution_count": 30,
   "metadata": {},
   "outputs": [
    {
     "name": "stdout",
     "output_type": "stream",
     "text": [
      "Unique values in 'Tm': ['NYK' 'MEM' 'OKC' 'MIN' 'TOT' 'DEN' 'POR' 'NOP' 'PHI' 'IND' 'DAL' 'CLE'\n",
      " 'MIA' 'BRK' 'SAS' 'MIL' 'DET' 'ATL' 'HOU' 'CHI' 'GSW' 'LAC' 'PHO' 'BOS'\n",
      " 'WAS' 'UTA' 'SAC' 'CHO' 'LAL' 'TOR' 'ORL']\n"
     ]
    }
   ],
   "source": [
    "# Inspect unique team abbreviations in the Tm column\n",
    "print(\"Unique values in 'Tm':\", team_stats_2015['Tm'].unique())"
   ]
  },
  {
   "cell_type": "markdown",
   "metadata": {},
   "source": [
    "### Quality Issue 2: Ambiguity in `Tm` Column\n",
    "\n",
    "#### Type: Accuracy\n",
    "\n",
    "#### Inspecting the Dataframe Programmatically:\n",
    "- The `Tm` column contains 30 team abbreviations as well as the special value `TOT`, representing players who played for multiple teams in the same season.\n",
    "- While `TOT` is valid, it does not correspond to a specific team, which could create ambiguity during team-level analyses.\n",
    "\n",
    "#### Issue and Justification:\n",
    "- The presence of `TOT` in the `Tm` column introduces ambiguity because it aggregates statistics from multiple teams and does not represent a single team.\n",
    "- This can affect analysis when calculating team-based metrics or comparing players across teams. Handling this special case is necessary to ensure consistent and accurate analysis."
   ]
  },
  {
   "cell_type": "code",
   "execution_count": 31,
   "metadata": {},
   "outputs": [
    {
     "name": "stdout",
     "output_type": "stream",
     "text": [
      "Number of 'TOT' entries: 76\n"
     ]
    }
   ],
   "source": [
    "# Count rows with 'TOT' in the 'Tm' column\n",
    "tot_entries = team_stats_2015[team_stats_2015['Tm'] == 'TOT']\n",
    "print(\"Number of 'TOT' entries:\", len(tot_entries))"
   ]
  },
  {
   "cell_type": "code",
   "execution_count": 32,
   "metadata": {},
   "outputs": [
    {
     "name": "stdout",
     "output_type": "stream",
     "text": [
      "\n",
      "Sample rows with 'TOT':\n",
      "            Player    Year   Tm     G     PTS    TRB    AST\n",
      "4   Arron Afflalo  2015.0  TOT  78.0  1035.0  247.0  129.0\n",
      "14   Lou Amundson  2015.0  TOT  53.0   259.0  268.0   70.0\n",
      "28  D.J. Augustin  2015.0  TOT  82.0   777.0  161.0  353.0\n",
      "40    Will Barton  2015.0  TOT  58.0   397.0  162.0   81.0\n",
      "56    Tarik Black  2015.0  TOT  63.0   379.0  368.0   42.0\n"
     ]
    }
   ],
   "source": [
    "# Display sample rows with 'TOT'\n",
    "print(\"\\nSample rows with 'TOT':\\n\", tot_entries.head())"
   ]
  },
  {
   "cell_type": "markdown",
   "metadata": {},
   "source": [
    "### Tidiness Issue 1: `TOT` Combines Observational Units\n",
    "\n",
    "#### Rule Violated: Each type of observational unit forms a table\n",
    "\n",
    "#### Inspecting the Dataframe Programmatically:\n",
    "- The `Tm` column contains 76 rows with the value `TOT`, which aggregates player statistics across multiple teams for players traded during the season.\n",
    "- Sample rows with `TOT` show that these entries aggregate stats such as points (`PTS`), rebounds (`TRB`), and assists (`AST`) from multiple teams.\n",
    "\n",
    "#### Issue and Justification:\n",
    "- The `TOT` value violates the principle that each row should represent a single observational unit. Instead, it combines statistics from multiple teams into one row.\n",
    "- This creates ambiguity because `TOT` rows mix data for different teams, making team-level analysis challenging. To address this, `TOT` entries should either be separated into team-specific rows or handled as a distinct case in analysis."
   ]
  },
  {
   "cell_type": "code",
   "execution_count": 33,
   "metadata": {},
   "outputs": [
    {
     "name": "stdout",
     "output_type": "stream",
     "text": [
      "Rows for sample player (Arron Afflalo):\n",
      "           Player    Year   Tm     G     PTS    TRB    AST\n",
      "4  Arron Afflalo  2015.0  TOT  78.0  1035.0  247.0  129.0\n",
      "5  Arron Afflalo  2015.0  DEN  53.0   771.0  180.0  101.0\n",
      "6  Arron Afflalo  2015.0  POR  25.0   264.0   67.0   28.0\n"
     ]
    }
   ],
   "source": [
    "# Compare stats for a sample player with 'TOT' and individual team rows\n",
    "sample_player = team_stats_2015[team_stats_2015['Player'] == 'Arron Afflalo']\n",
    "print(\"Rows for sample player (Arron Afflalo):\\n\", sample_player)"
   ]
  },
  {
   "cell_type": "markdown",
   "metadata": {},
   "source": [
    "### Tidiness Issue 2: Mixed Observational Units (Team-Specific vs. Aggregated)\n",
    "\n",
    "#### Rule Violated: Each type of observational unit forms a table\n",
    "\n",
    "#### Inspecting the Dataframe Programmatically:\n",
    "- For players who were traded, such as `Arron Afflalo`, the dataset contains:\n",
    "  1. A row with `TOT`, aggregating stats from all teams the player played for during the season.\n",
    "  2. Separate rows for each team (`DEN` and `POR`) where the player played.\n",
    "\n",
    "#### Issue and Justification:\n",
    "- This dataset mixes **aggregated stats (TOT)** with **team-specific stats**, violating the principle that each type of observational unit forms a separate table.\n",
    "- When performing team-level analysis, including both `TOT` and individual team rows may lead to double-counting or misinterpretation of player contributions.\n",
    "- To address this, `TOT` rows should either be removed or handled separately from team-specific data during analysis."
   ]
  },
  {
   "cell_type": "markdown",
   "metadata": {
    "id": "D6gmLnBttpCh"
   },
   "source": [
    "## 3. Clean data"
   ]
  },
  {
   "cell_type": "code",
   "execution_count": 34,
   "metadata": {},
   "outputs": [
    {
     "name": "stdout",
     "output_type": "stream",
     "text": [
      "Copy of Dataset 1 (all_seasons_2015): (2622, 6)\n",
      "Copy of Dataset 2 (team_stats_2015): (651, 7)\n"
     ]
    }
   ],
   "source": [
    "# Make copies of the datasets to preserve the raw data\n",
    "all_seasons_2015_cleaned = all_seasons_2015.copy()\n",
    "team_stats_2015_cleaned = team_stats_2015.copy()\n",
    "\n",
    "# Validate the creation of copies\n",
    "print(\"Copy of Dataset 1 (all_seasons_2015):\", all_seasons_2015_cleaned.shape)\n",
    "print(\"Copy of Dataset 2 (team_stats_2015):\", team_stats_2015_cleaned.shape)"
   ]
  },
  {
   "cell_type": "markdown",
   "metadata": {
    "id": "FmFhN52Yyn3l"
   },
   "source": [
    "## Dataset 1"
   ]
  },
  {
   "cell_type": "markdown",
   "metadata": {},
   "source": [
    "### Quality Issue 1: Duplicate Rows\n",
    "\n",
    "#### Define:\n",
    "- **Problem**: The dataset contains 49 duplicate rows, which could inflate aggregated statistics like total points scored.\n",
    "- **Plan**: Remove duplicate rows using the `.drop_duplicates()` method.\n",
    "- **Validation**: Confirm the number of duplicates is zero after cleaning and validate the dataset's shape."
   ]
  },
  {
   "cell_type": "code",
   "execution_count": 35,
   "metadata": {},
   "outputs": [],
   "source": [
    "# Step 2: Code\n",
    "# Remove duplicate rows\n",
    "all_seasons_2015_cleaned = all_seasons_2015.drop_duplicates()"
   ]
  },
  {
   "cell_type": "code",
   "execution_count": 36,
   "metadata": {},
   "outputs": [
    {
     "name": "stdout",
     "output_type": "stream",
     "text": [
      "Number of duplicate rows after cleaning: 0\n",
      "Dataset shape after cleaning duplicates: (2573, 6)\n"
     ]
    }
   ],
   "source": [
    "# Step 3: Test\n",
    "# Validate that duplicates are removed\n",
    "print(\"Number of duplicate rows after cleaning:\", all_seasons_2015_cleaned.duplicated().sum())\n",
    "print(\"Dataset shape after cleaning duplicates:\", all_seasons_2015_cleaned.shape)"
   ]
  },
  {
   "cell_type": "markdown",
   "metadata": {},
   "source": [
    "#### Test Results:\n",
    "- After running `.duplicated().sum()`, the number of duplicate rows is confirmed as **0**.\n",
    "- The dataset shape has changed, reflecting the removal of duplicate rows."
   ]
  },
  {
   "cell_type": "markdown",
   "metadata": {},
   "source": [
    "### Quality Issue 2: Unclear Column Naming\n",
    "\n",
    "#### Define:\n",
    "- **Problem**: The `team_id` column contains team abbreviations but is ambiguously named. This can confuse users who may interpret it as a unique numeric identifier.\n",
    "- **Plan**: Rename the column `team_id` to `team_abbreviation` to better reflect its content.\n",
    "- **Validation**: Verify the column has been renamed by printing the column names."
   ]
  },
  {
   "cell_type": "code",
   "execution_count": 37,
   "metadata": {},
   "outputs": [
    {
     "name": "stderr",
     "output_type": "stream",
     "text": [
      "/tmp/ipykernel_101/2397834647.py:3: SettingWithCopyWarning: \n",
      "A value is trying to be set on a copy of a slice from a DataFrame\n",
      "\n",
      "See the caveats in the documentation: https://pandas.pydata.org/pandas-docs/stable/user_guide/indexing.html#returning-a-view-versus-a-copy\n",
      "  all_seasons_2015_cleaned.rename(columns={'team_id': 'team_abbreviation'}, inplace=True)\n"
     ]
    }
   ],
   "source": [
    "# Step 2: Code\n",
    "# Rename the 'team_id' column to 'team_abbreviation'\n",
    "all_seasons_2015_cleaned.rename(columns={'team_id': 'team_abbreviation'}, inplace=True)"
   ]
  },
  {
   "cell_type": "code",
   "execution_count": 38,
   "metadata": {},
   "outputs": [
    {
     "name": "stdout",
     "output_type": "stream",
     "text": [
      "Updated column names: ['team_abbreviation', 'year_id', 'pts', 'opp_pts', 'game_result', 'game_location']\n"
     ]
    }
   ],
   "source": [
    "# Step 3: Test\n",
    "# Verify the column has been renamed\n",
    "print(\"Updated column names:\", all_seasons_2015_cleaned.columns.tolist())"
   ]
  },
  {
   "cell_type": "markdown",
   "metadata": {},
   "source": [
    "#### Test Results:\n",
    "- The column name `team_id` has been successfully renamed to `team_abbreviation`.\n",
    "- The updated column names were printed and confirm the renaming."
   ]
  },
  {
   "cell_type": "markdown",
   "metadata": {},
   "source": [
    "### Tidiness Issue 1: Ambiguous Abbreviations in `game_location`\n",
    "\n",
    "#### Define:\n",
    "- **Problem**: The `game_location` column contains abbreviations (`A`, `H`, `N`) for Away, Home, and Neutral locations, which may confuse users.\n",
    "- **Plan**: Replace abbreviations in the `game_location` column with full names (`Away`, `Home`, `Neutral`).\n",
    "- **Validation**: Confirm the values in the `game_location` column are updated by displaying the unique values."
   ]
  },
  {
   "cell_type": "code",
   "execution_count": 39,
   "metadata": {},
   "outputs": [
    {
     "name": "stderr",
     "output_type": "stream",
     "text": [
      "/tmp/ipykernel_101/3680373278.py:4: SettingWithCopyWarning: \n",
      "A value is trying to be set on a copy of a slice from a DataFrame.\n",
      "Try using .loc[row_indexer,col_indexer] = value instead\n",
      "\n",
      "See the caveats in the documentation: https://pandas.pydata.org/pandas-docs/stable/user_guide/indexing.html#returning-a-view-versus-a-copy\n",
      "  all_seasons_2015_cleaned['game_location'] = all_seasons_2015_cleaned['game_location'].replace(location_mapping)\n"
     ]
    }
   ],
   "source": [
    "# Step 2: Code\n",
    "# Replace abbreviations with full names in the 'game_location' column\n",
    "location_mapping = {'A': 'Away', 'H': 'Home', 'N': 'Neutral'}\n",
    "all_seasons_2015_cleaned['game_location'] = all_seasons_2015_cleaned['game_location'].replace(location_mapping)"
   ]
  },
  {
   "cell_type": "code",
   "execution_count": 40,
   "metadata": {},
   "outputs": [
    {
     "name": "stdout",
     "output_type": "stream",
     "text": [
      "Unique values in 'game_location': ['Away' 'Home' 'Neutral']\n"
     ]
    }
   ],
   "source": [
    "# Step 3: Test\n",
    "# Verify that the values in 'game_location' have been updated\n",
    "print(\"Unique values in 'game_location':\", all_seasons_2015_cleaned['game_location'].unique())"
   ]
  },
  {
   "cell_type": "markdown",
   "metadata": {},
   "source": [
    "#### Test Results:\n",
    "- The `game_location` column now contains full names (`Away`, `Home`, `Neutral`).\n",
    "- The unique values were printed and confirm the replacements."
   ]
  },
  {
   "cell_type": "markdown",
   "metadata": {},
   "source": [
    "### Tidiness Issue 2: Single Observational Unit (Team-Level)\n",
    "#### Part A\n",
    "#### Define:\n",
    "- **Problem**: The dataset represents team-level game statistics, which is fine as-is. However, 55 non-unique rows were identified based on the key columns (`team_abbreviation`, `year_id`, `pts`, `opp_pts`).\n",
    "- **Plan**:\n",
    "  - Check for unique rows using the key columns to ensure team-level granularity.\n",
    "  - Investigate the cause of duplicates.\n",
    "- **Validation**:\n",
    "  - Print the number of non-unique rows and inspect the duplicates to determine their cause."
   ]
  },
  {
   "cell_type": "code",
   "execution_count": 41,
   "metadata": {},
   "outputs": [
    {
     "name": "stdout",
     "output_type": "stream",
     "text": [
      "Number of non-unique rows based on team-level keys: 55\n"
     ]
    }
   ],
   "source": [
    "# Step 2: Code\n",
    "# Verify rows are unique based on key columns\n",
    "unique_rows_check = all_seasons_2015_cleaned.duplicated(subset=['team_abbreviation', 'year_id', 'pts', 'opp_pts']).sum()\n",
    "\n",
    "print(\"Number of non-unique rows based on team-level keys:\", unique_rows_check)"
   ]
  },
  {
   "cell_type": "code",
   "execution_count": 42,
   "metadata": {},
   "outputs": [
    {
     "name": "stdout",
     "output_type": "stream",
     "text": [
      "There are non-unique rows in the dataset. Further investigation needed.\n"
     ]
    }
   ],
   "source": [
    "# Step 3: Test\n",
    "# Verify dataset granularity with descriptive statistics and unique keys\n",
    "if unique_rows_check == 0:\n",
    "    print(\"All rows represent unique team-level observations.\")\n",
    "else:\n",
    "    print(\"There are non-unique rows in the dataset. Further investigation needed.\")"
   ]
  },
  {
   "cell_type": "markdown",
   "metadata": {},
   "source": [
    "#### Test Results for Part A:\n",
    "- Found **55 non-unique rows** based on key columns (`team_abbreviation`, `year_id`, `pts`, `opp_pts`).\n",
    "- These rows indicate duplicates at the team-level observational unit, violating the tidiness principle."
   ]
  },
  {
   "cell_type": "markdown",
   "metadata": {},
   "source": [
    "#### Part B\n",
    "#### Define:\n",
    "- **Problem**: The identified duplicates need to be resolved to ensure each row represents a unique team-level observation.\n",
    "- **Plan**:\n",
    "  - Remove duplicate rows using the `.drop_duplicates()` method.\n",
    "  - Retain only the first occurrence of each duplicate.\n",
    "- **Validation**:\n",
    "  - Confirm that all rows are now unique by checking for duplicates again."
   ]
  },
  {
   "cell_type": "code",
   "execution_count": 43,
   "metadata": {},
   "outputs": [],
   "source": [
    "# Remove duplicate rows based on team-level keys\n",
    "all_seasons_2015_cleaned = all_seasons_2015_cleaned.drop_duplicates(\n",
    "    subset=['team_abbreviation', 'year_id', 'pts', 'opp_pts'], keep='first'\n",
    ")"
   ]
  },
  {
   "cell_type": "code",
   "execution_count": 44,
   "metadata": {},
   "outputs": [
    {
     "name": "stdout",
     "output_type": "stream",
     "text": [
      "Number of non-unique rows after cleaning: 0\n",
      "Dataset shape after cleaning duplicates: (2518, 6)\n"
     ]
    }
   ],
   "source": [
    "# Validate that duplicates are removed\n",
    "unique_rows_check = all_seasons_2015_cleaned.duplicated(subset=['team_abbreviation', 'year_id', 'pts', 'opp_pts']).sum()\n",
    "print(\"Number of non-unique rows after cleaning:\", unique_rows_check)\n",
    "print(\"Dataset shape after cleaning duplicates:\", all_seasons_2015_cleaned.shape)"
   ]
  },
  {
   "cell_type": "markdown",
   "metadata": {},
   "source": [
    "#### Test Results for Part B:\n",
    "- After cleaning, the number of non-unique rows based on team-level keys is confirmed to be **0**.\n",
    "- The dataset shape reflects the removal of duplicate rows, ensuring proper team-level granularity.\n",
    "\n",
    "#### Justification:\n",
    "- Removing these duplicates ensures that each row represents a unique team's performance in a single game, aligning with the tidiness principle."
   ]
  },
  {
   "cell_type": "markdown",
   "metadata": {
    "id": "n_DAUbJrymBL"
   },
   "source": [
    "## Dataset 2"
   ]
  },
  {
   "cell_type": "markdown",
   "metadata": {},
   "source": [
    "### Quality Issue 1: Anomaly in `G` (Games Played)\n",
    "\n",
    "#### Define:\n",
    "- **Problem**: A player (`Josh Smith`) recorded 83 games, exceeding the maximum of 82 games in a regular NBA season.\n",
    "- **Plan**:\n",
    "  - Identify and isolate rows where `G` exceeds 82.\n",
    "  - Determine whether these anomalies are errors or legitimate data (e.g., including playoff games).\n",
    "  - If necessary, cap `G` at 82 to align with regular season standards.\n",
    "- **Validation**:\n",
    "  - Verify no values in the `G` column exceed 82 after cleaning."
   ]
  },
  {
   "cell_type": "code",
   "execution_count": 45,
   "metadata": {},
   "outputs": [
    {
     "name": "stdout",
     "output_type": "stream",
     "text": [
      "Rows with games played (G) exceeding 82:\n",
      "          Player    Year   Tm     G     PTS    TRB    AST\n",
      "546  Josh Smith  2015.0  TOT  83.0  1027.0  530.0  277.0\n"
     ]
    }
   ],
   "source": [
    "# Step 2: Code\n",
    "# Identify rows where 'G' exceeds 82\n",
    "games_above_82 = team_stats_2015_cleaned[team_stats_2015_cleaned['G'] > 82]\n",
    "print(\"Rows with games played (G) exceeding 82:\\n\", games_above_82)\n",
    "\n",
    "# Cap 'G' at 82 for rows exceeding the maximum\n",
    "team_stats_2015_cleaned.loc[team_stats_2015_cleaned['G'] > 82, 'G'] = 82"
   ]
  },
  {
   "cell_type": "code",
   "execution_count": 46,
   "metadata": {},
   "outputs": [
    {
     "name": "stdout",
     "output_type": "stream",
     "text": [
      "Maximum value in 'G' after cleaning: 82.0\n"
     ]
    }
   ],
   "source": [
    "# Step 3: Test\n",
    "# Verify no values in 'G' exceed 82\n",
    "print(\"Maximum value in 'G' after cleaning:\", team_stats_2015_cleaned['G'].max())"
   ]
  },
  {
   "cell_type": "markdown",
   "metadata": {},
   "source": [
    "#### Test Results:\n",
    "- Rows with `G` exceeding 82 were identified and capped at 82.\n",
    "- The maximum value in the `G` column is confirmed to be 82, ensuring alignment with the NBA regular season limit.\n",
    "\n",
    "#### Justification:\n",
    "- Capping the value ensures consistency with the regular season standard, avoiding inflated statistics or errors."
   ]
  },
  {
   "cell_type": "markdown",
   "metadata": {},
   "source": [
    "### Quality Issue 2: Ambiguity in `Tm` (Team Abbreviation)\n",
    "\n",
    "#### Define:\n",
    "- **Problem**: The `Tm` column contains `TOT`, which represents aggregated stats for players traded between teams. This creates ambiguity for team-level analysis, as `TOT` rows do not belong to any specific team.\n",
    "- **Plan**:\n",
    "  - Identify all rows where `Tm` is `TOT`.\n",
    "  - Decide on how to handle these rows: either drop them or split them into team-specific rows (addressed in tidiness issues).\n",
    "  - For this step, mark or isolate the `TOT` rows for further processing in tidiness cleaning.\n",
    "- **Validation**:\n",
    "  - Confirm that `TOT` rows are correctly isolated or marked for further cleaning."
   ]
  },
  {
   "cell_type": "code",
   "execution_count": 47,
   "metadata": {},
   "outputs": [
    {
     "name": "stdout",
     "output_type": "stream",
     "text": [
      "Number of 'TOT' rows: 76\n",
      "Sample 'TOT' rows:\n",
      "            Player    Year   Tm     G     PTS    TRB    AST\n",
      "4   Arron Afflalo  2015.0  TOT  78.0  1035.0  247.0  129.0\n",
      "14   Lou Amundson  2015.0  TOT  53.0   259.0  268.0   70.0\n",
      "28  D.J. Augustin  2015.0  TOT  82.0   777.0  161.0  353.0\n",
      "40    Will Barton  2015.0  TOT  58.0   397.0  162.0   81.0\n",
      "56    Tarik Black  2015.0  TOT  63.0   379.0  368.0   42.0\n"
     ]
    }
   ],
   "source": [
    "# Step 2: Code\n",
    "# Identify rows where 'Tm' is 'TOT'\n",
    "tot_rows = team_stats_2015_cleaned[team_stats_2015_cleaned['Tm'] == 'TOT']\n",
    "print(\"Number of 'TOT' rows:\", len(tot_rows))\n",
    "print(\"Sample 'TOT' rows:\\n\", tot_rows.head())\n",
    "\n",
    "# Create a flag to mark 'TOT' rows for further cleaning\n",
    "team_stats_2015_cleaned['is_tot'] = team_stats_2015_cleaned['Tm'] == 'TOT'"
   ]
  },
  {
   "cell_type": "code",
   "execution_count": 48,
   "metadata": {},
   "outputs": [
    {
     "name": "stdout",
     "output_type": "stream",
     "text": [
      "Unique values in 'is_tot': [False  True]\n",
      "Number of flagged 'TOT' rows: 76\n"
     ]
    }
   ],
   "source": [
    "# Step 3: Test\n",
    "# Verify that 'TOT' rows are flagged\n",
    "print(\"Unique values in 'is_tot':\", team_stats_2015_cleaned['is_tot'].unique())\n",
    "print(\"Number of flagged 'TOT' rows:\", team_stats_2015_cleaned['is_tot'].sum())"
   ]
  },
  {
   "cell_type": "markdown",
   "metadata": {},
   "source": [
    "#### Test Results:\n",
    "- **76 rows** in the dataset have `Tm = TOT`, representing aggregated stats for players traded between teams.\n",
    "- A new column, `is_tot`, was successfully created to flag these rows for further processing.\n",
    "\n",
    "#### Justification:\n",
    "- Flagging the `TOT` rows is necessary for downstream tidiness cleaning, where they will either be removed or split into team-specific rows."
   ]
  },
  {
   "cell_type": "markdown",
   "metadata": {},
   "source": [
    "### Tidiness Issue 1: `TOT` Combines Observational Units\n",
    "\n",
    "#### Define:\n",
    "- **Problem**: The `TOT` rows aggregate stats across multiple teams for traded players, violating the tidiness rule that each type of observational unit forms one table.\n",
    "- **Plan**:\n",
    "  - Drop the `TOT` rows entirely, as they duplicate information already available in team-specific rows.\n",
    "- **Validation**:\n",
    "  - Verify that no rows with `Tm = TOT` remain in the dataset."
   ]
  },
  {
   "cell_type": "code",
   "execution_count": 49,
   "metadata": {},
   "outputs": [],
   "source": [
    "# Step 2: Code\n",
    "# Drop rows where 'Tm' is 'TOT'\n",
    "team_stats_2015_cleaned = team_stats_2015_cleaned[team_stats_2015_cleaned['Tm'] != 'TOT']"
   ]
  },
  {
   "cell_type": "code",
   "execution_count": 50,
   "metadata": {},
   "outputs": [
    {
     "name": "stdout",
     "output_type": "stream",
     "text": [
      "Number of 'TOT' rows after cleaning: 0\n"
     ]
    }
   ],
   "source": [
    "# Step 3: Test\n",
    "# Verify that no rows with 'Tm' == 'TOT' remain\n",
    "tot_rows_after_cleaning = team_stats_2015_cleaned[team_stats_2015_cleaned['Tm'] == 'TOT']\n",
    "print(\"Number of 'TOT' rows after cleaning:\", len(tot_rows_after_cleaning))"
   ]
  },
  {
   "cell_type": "markdown",
   "metadata": {},
   "source": [
    "#### Test Results:\n",
    "- All rows with `Tm = TOT` have been successfully removed.\n",
    "- The dataset now contains only team-specific rows, ensuring proper granularity for analysis.\n",
    "\n",
    "#### Justification:\n",
    "- Removing the `TOT` rows eliminates redundant data and aligns the dataset with the tidiness rule that each row should represent a single observational unit."
   ]
  },
  {
   "cell_type": "markdown",
   "metadata": {},
   "source": [
    "### Tidiness Issue 2: Mixed Observational Units\n",
    "\n",
    "#### Define:\n",
    "- **Problem**: The dataset includes multiple rows for the same player, indicating that observational units are not unique.\n",
    "- **Plan**:\n",
    "  - Identify players with multiple rows in the dataset.\n",
    "  - Investigate the cause of these duplicates (e.g., identical rows or overlapping stats).\n",
    "  - Resolve the issue by either dropping exact duplicates or aggregating stats for duplicate players.\n",
    "- **Validation**:\n",
    "  - Verify that the number of unique players matches the total number of rows in the dataset."
   ]
  },
  {
   "cell_type": "code",
   "execution_count": 51,
   "metadata": {},
   "outputs": [
    {
     "name": "stdout",
     "output_type": "stream",
     "text": [
      "Players with multiple rows in the dataset:\n",
      " Player\n",
      "Jameer Nelson     3\n",
      "Brandan Wright    3\n",
      "Chris Johnson     3\n",
      "A.J. Price        3\n",
      "Troy Daniels      3\n",
      "                 ..\n",
      "Goran Dragic      2\n",
      "Zoran Dragic      2\n",
      "Alonzo Gee        2\n",
      "Reggie Jackson    2\n",
      "Arron Afflalo     2\n",
      "Name: count, Length: 76, dtype: int64\n"
     ]
    }
   ],
   "source": [
    "# Step 1: Investigate duplicate players\n",
    "# Check the number of rows per player\n",
    "duplicated_players = team_stats_2015_cleaned['Player'].value_counts()\n",
    "duplicate_entries = duplicated_players[duplicated_players > 1]\n",
    "\n",
    "# Display players with more than one row\n",
    "print(\"Players with multiple rows in the dataset:\\n\", duplicate_entries)"
   ]
  },
  {
   "cell_type": "code",
   "execution_count": 52,
   "metadata": {},
   "outputs": [],
   "source": [
    "# Step 2: Resolve duplicate players by dropping exact duplicates\n",
    "team_stats_2015_cleaned = team_stats_2015_cleaned.drop_duplicates(subset=['Player'])"
   ]
  },
  {
   "cell_type": "code",
   "execution_count": 53,
   "metadata": {},
   "outputs": [],
   "source": [
    "# Step 3: Test\n",
    "# Verify unique players after cleaning\n",
    "unique_players = team_stats_2015_cleaned['Player'].nunique()\n",
    "total_rows = team_stats_2015_cleaned.shape[0]\n",
    "\n",
    "# Test for alignment\n",
    "assert unique_players == total_rows, \"Rows still do not match unique players. Further cleaning is required.\""
   ]
  },
  {
   "cell_type": "markdown",
   "metadata": {},
   "source": [
    "#### Test Results:\n",
    "- The dataset now contains one row per unique player.\n",
    "- The number of unique players matches the total number of rows.\n",
    "\n",
    "#### Justification:\n",
    "- Ensuring each row corresponds to a unique player eliminates duplicate or overlapping observational units, aligning with the tidiness rule that each type of observational unit forms one table."
   ]
  },
  {
   "cell_type": "markdown",
   "metadata": {},
   "source": [
    "### **Remove unnecessary variables and combine datasets**"
   ]
  },
  {
   "cell_type": "code",
   "execution_count": 54,
   "metadata": {},
   "outputs": [
    {
     "name": "stdout",
     "output_type": "stream",
     "text": [
      "Updated Columns in Team Stats Dataset: ['Player', 'Year', 'Tm', 'G', 'PTS', 'TRB', 'AST']\n",
      "Updated Columns in Player Stats Dataset: ['team_abbreviation', 'year_id', 'pts', 'opp_pts', 'game_result', 'game_location']\n"
     ]
    }
   ],
   "source": [
    "# Step 1: Remove unnecessary variables\n",
    "# Team Stats Dataset\n",
    "team_stats_2015_cleaned = team_stats_2015_cleaned[['Player', 'Year', 'Tm', 'G', 'PTS', 'TRB', 'AST']]\n",
    "\n",
    "# Player Stats Dataset\n",
    "player_stats_2015_cleaned = all_seasons_2015_cleaned[['team_abbreviation', 'year_id', 'pts', 'opp_pts', 'game_result', 'game_location']]\n",
    "\n",
    "# Step 2: Confirm updated columns\n",
    "print(\"Updated Columns in Team Stats Dataset:\", team_stats_2015_cleaned.columns.tolist())\n",
    "print(\"Updated Columns in Player Stats Dataset:\", player_stats_2015_cleaned.columns.tolist())"
   ]
  },
  {
   "cell_type": "code",
   "execution_count": 55,
   "metadata": {},
   "outputs": [
    {
     "name": "stdout",
     "output_type": "stream",
     "text": [
      "Renamed Columns in Player Stats Dataset: ['Tm', 'Year', 'Team_PTS', 'Team_Opp_PTS', 'game_result', 'game_location']\n"
     ]
    }
   ],
   "source": [
    "# Rename columns in player_stats_2015_cleaned to align with team_stats_2015_cleaned\n",
    "player_stats_2015_cleaned.rename(columns={\n",
    "    'team_abbreviation': 'Tm',\n",
    "    'year_id': 'Year',\n",
    "    'pts': 'Team_PTS',\n",
    "    'opp_pts': 'Team_Opp_PTS',\n",
    "}, inplace=True)\n",
    "\n",
    "# Confirm updated column names\n",
    "print(\"Renamed Columns in Player Stats Dataset:\", player_stats_2015_cleaned.columns.tolist())"
   ]
  },
  {
   "cell_type": "code",
   "execution_count": 56,
   "metadata": {
    "scrolled": true
   },
   "outputs": [
    {
     "name": "stdout",
     "output_type": "stream",
     "text": [
      "Combined Dataset Shape: (41158, 11)\n",
      "Columns in Combined Dataset: ['Player', 'Year', 'Tm', 'G', 'PTS', 'TRB', 'AST', 'Team_PTS', 'Team_Opp_PTS', 'game_result', 'game_location']\n"
     ]
    }
   ],
   "source": [
    "# Merge the datasets on 'Tm' and 'Year'\n",
    "combined_dataset = team_stats_2015_cleaned.merge(\n",
    "    player_stats_2015_cleaned,\n",
    "    on=['Tm', 'Year'],  # Join on common columns\n",
    "    how='inner'  # Only include rows that match in both datasets\n",
    ")\n",
    "\n",
    "# Confirm merged dataset\n",
    "print(\"Combined Dataset Shape:\", combined_dataset.shape)\n",
    "print(\"Columns in Combined Dataset:\", combined_dataset.columns.tolist())"
   ]
  },
  {
   "cell_type": "code",
   "execution_count": 57,
   "metadata": {},
   "outputs": [
    {
     "name": "stdout",
     "output_type": "stream",
     "text": [
      "Combined dataset saved as 'combined_nba_stats_2015.csv'.\n"
     ]
    }
   ],
   "source": [
    "# Save the combined dataset for future use\n",
    "combined_dataset.to_csv(\"combined_nba_stats_2015.csv\", index=False)\n",
    "print(\"Combined dataset saved as 'combined_nba_stats_2015.csv'.\")"
   ]
  },
  {
   "cell_type": "markdown",
   "metadata": {},
   "source": [
    "To finalize the cleaning process, we removed unnecessary variables from both datasets to focus only on the columns relevant to our analysis. The steps involved:\n",
    "\n",
    "1. **Team Stats Dataset**:\n",
    "   - Retained the columns: `['Player', 'Year', 'Tm', 'G', 'PTS', 'TRB', 'AST']` to focus on player performance metrics.\n",
    "\n",
    "2. **Player Stats Dataset**:\n",
    "   - Retained the columns: `['team_abbreviation', 'year_id', 'pts', 'opp_pts', 'game_result', 'game_location']` to focus on team-level performance metrics.\n",
    "\n",
    "3. **Aligning Column Names**:\n",
    "   - Renamed the columns in the `Player Stats Dataset` to match the structure of the `Team Stats Dataset`. This step ensures consistency and alignment for merging.\n",
    "\n",
    "4. **Merging Datasets**:\n",
    "   - Combined both datasets on the common columns `['Tm', 'Year']` using an inner join. This ensures that only matching rows from both datasets are included in the final dataset.\n",
    "\n",
    "5. **Validation**:\n",
    "   - The combined dataset contains **4,115 rows** and **11 columns** after merging, ensuring a cohesive structure for further analysis.\n",
    "   - Saved the cleaned and combined dataset as `combined_nba_stats_2015.csv` for future use.\n",
    "\n",
    "This step ensures that our dataset is clean, consistent, and ready for analysis, focusing only on the necessary variables."
   ]
  },
  {
   "cell_type": "markdown",
   "metadata": {
    "id": "F42urHuzttjF"
   },
   "source": [
    "## 4. Update your data store"
   ]
  },
  {
   "cell_type": "code",
   "execution_count": 58,
   "metadata": {
    "id": "V3uay7EJUV_L"
   },
   "outputs": [],
   "source": [
    "# Save raw data\n",
    "team_stats_2015.to_csv(\"raw_nba_team_stats_2015.csv\", index=False)\n",
    "all_seasons_2015.to_csv(\"raw_nba_player_stats_2015.csv\", index=False)\n",
    "\n",
    "# Save cleaned data\n",
    "team_stats_2015_cleaned.to_csv(\"cleaned_nba_team_stats_2015.csv\", index=False)\n",
    "all_seasons_2015_cleaned.to_csv(\"cleaned_nba_player_stats_2015.csv\", index=False)\n",
    "combined_dataset.to_csv(\"combined_nba_stats_2015.csv\", index=False)"
   ]
  },
  {
   "cell_type": "markdown",
   "metadata": {
    "id": "cGy_yddGtzhM"
   },
   "source": [
    "## 5. Answer the research question"
   ]
  },
  {
   "cell_type": "markdown",
   "metadata": {},
   "source": [
    "## *Research question:*"
   ]
  },
  {
   "cell_type": "markdown",
   "metadata": {},
   "source": [
    " ### What is the relationship between individual player performance metrics (points, assists, rebounds) and team success metrics (wins, losses, scoring margins) during the 2015 NBA season?"
   ]
  },
  {
   "cell_type": "code",
   "execution_count": 59,
   "metadata": {
    "scrolled": false
   },
   "outputs": [
    {
     "data": {
      "image/png": "[encoded data removed]",
      "text/plain": [
       "<Figure size 1000x600 with 1 Axes>"
      ]
     },
     "metadata": {},
     "output_type": "display_data"
    }
   ],
   "source": [
    "# Visual 1: Box plot for individual player points grouped by team wins\n",
    "import matplotlib.pyplot as plt\n",
    "\n",
    "# Add a column for win indicator (1 for Win, 0 for Loss)\n",
    "combined_dataset['Win_Indicator'] = combined_dataset['game_result'].apply(lambda x: 1 if x == 'W' else 0)\n",
    "\n",
    "plt.figure(figsize=(10, 6))\n",
    "plt.boxplot([combined_dataset[combined_dataset['Win_Indicator'] == 1]['PTS'],\n",
    "             combined_dataset[combined_dataset['Win_Indicator'] == 0]['PTS']],\n",
    "            labels=['Win', 'Loss'], patch_artist=True, notch=True)\n",
    "\n",
    "plt.title(\"Distribution of Player Points by Team Wins and Losses\", fontsize=14)\n",
    "plt.xlabel(\"Game Result\", fontsize=12)\n",
    "plt.ylabel(\"Player Points (PTS)\", fontsize=12)\n",
    "plt.grid(axis='y')\n",
    "plt.show()"
   ]
  },
  {
   "cell_type": "markdown",
   "metadata": {},
   "source": [
    "### Visualization 1: Distribution of Player Points by Team Wins and Losses\n",
    "\n",
    "This box plot illustrates the distribution of individual player points (PTS) for games categorized as either wins or losses. The results are grouped by the game outcome (`Win` or `Loss`), allowing for a comparative analysis of player contributions in different scenarios.\n",
    "\n",
    "**Observations**:\n",
    "- The median points scored by players in games won (`Win`) is generally higher than in games lost (`Loss`).\n",
    "- There is significant overlap in the interquartile ranges (IQR) of player points between wins and losses, indicating that high-scoring performances do not always guarantee a win.\n",
    "- Outliers are visible in both groups, with some players achieving exceptionally high scores in both winning and losing games. \n",
    "- The spread of points (as shown by the whiskers) is slightly larger for losses, suggesting more variability in player contributions during lost games.\n",
    "\n",
    "This visualization highlights the variability in individual player contributions across wins and losses, reinforcing the idea that while scoring is important, team success often depends on multiple factors."
   ]
  },
  {
   "cell_type": "code",
   "execution_count": 60,
   "metadata": {},
   "outputs": [
    {
     "data": {
      "image/png": "[encoded data removed]",
      "text/plain": [
       "<Figure size 1200x600 with 1 Axes>"
      ]
     },
     "metadata": {},
     "output_type": "display_data"
    }
   ],
   "source": [
    "# Visual 2: Bar chart for average team points vs. team success\n",
    "average_team_points = combined_dataset.groupby('Tm')['Team_PTS'].mean()\n",
    "team_wins = combined_dataset[combined_dataset['game_result'] == 'W'].groupby('Tm')['game_result'].count()\n",
    "\n",
    "plt.figure(figsize=(12, 6))\n",
    "plt.bar(average_team_points.index, average_team_points.values, label=\"Avg Team Points\", alpha=0.7)\n",
    "plt.plot(team_wins.index, team_wins.values, marker='o', color='r', label=\"Team Wins\", linestyle='-', linewidth=2)\n",
    "plt.title(\"Average Team Points and Total Wins by Team\", fontsize=14)\n",
    "plt.xlabel(\"Team Abbreviation\", fontsize=12)\n",
    "plt.xticks(rotation=45)\n",
    "plt.ylabel(\"Metrics\", fontsize=12)\n",
    "plt.legend()\n",
    "plt.grid(True)\n",
    "plt.show()"
   ]
  },
  {
   "cell_type": "markdown",
   "metadata": {},
   "source": [
    "### Visualization 2: Average Team Points and Total Wins by Team\n",
    "This bar and line chart compares the average team points (Team_PTS) and total wins (Team Wins) for each team during the 2015 season.\n",
    "\n",
    "**Observations**:\n",
    "- Teams like the Golden State Warriors (GSW) and Atlanta Hawks (ATL) stand out with high win totals and relatively high average team points.\n",
    "- However, some teams (e.g., Houston Rockets) exhibit moderate win totals despite having high average team points, indicating that other aspects of the game influence success.\n",
    "- Lower-performing teams, such as the Minnesota Timberwolves (MIN), had low average points and low win totals, suggesting a direct correlation for such teams.\n",
    "\n",
    "This visualization illustrates the relationship between team scoring ability and success, providing insights into how consistent team-level performance can impact overall outcomes."
   ]
  },
  {
   "cell_type": "markdown",
   "metadata": {
    "id": "0ezWXXZVj-TP"
   },
   "source": [
    "### **5.2:** Reflection"
   ]
  },
  {
   "cell_type": "markdown",
   "metadata": {},
   "source": [
    "In this project, the analysis shows the significant role of individual performance and team strategies in determining NBA team success. If I had more time, I would investigate advanced metrics, such as player efficiency ratings or defensive contributions, to better explain team outcomes. Exploring trends across multiple seasons or additional datasets, such as playoff statistics, could further validate these findings. This project underscores the importance of combining data wrangling and domain-specific analysis to uncover actionable insights."
   ]
  },
  {
   "cell_type": "code",
   "execution_count": 62,
   "metadata": {},
   "outputs": [
    {
     "name": "stdout",
     "output_type": "stream",
     "text": [
      "ZIP file created successfully: Real World Data Wrangling.zip\n"
     ]
    }
   ],
   "source": [
    "import zipfile\n",
    "\n",
    "# List of files to include in the ZIP\n",
    "files_to_zip = [\n",
    "    \"Data_Wrangling_Project_Starter.ipynb\",\n",
    "    \"Seasons_Stats.csv\",\n",
    "    \"filtered_team_stats_2015.csv\",\n",
    "    \"filtered_all_seasons_2015.csv\",\n",
    "    \"cleaned_nba_player_stats_2015.csv\",\n",
    "    \"cleaned_nba_team_stats_2015.csv\",\n",
    "    \"combined_nba_stats_2015.csv\",\n",
    "]\n",
    "\n",
    "# Create a ZIP file\n",
    "with zipfile.ZipFile(\"Real World Data Wrangling.zip\", \"w\") as zipf:\n",
    "    for file in files_to_zip:\n",
    "        zipf.write(file)\n",
    "\n",
    "print(\"ZIP file created successfully: Real World Data Wrangling.zip\")"
   ]
  }
 ],
 "metadata": {
  "colab": {
   "provenance": []
  },
  "kernelspec": {
   "display_name": "Python 3 (ipykernel)",
   "language": "python",
   "name": "python3"
  },
  "language_info": {
   "codemirror_mode": {
    "name": "ipython",
    "version": 3
   },
   "file_extension": ".py",
   "mimetype": "text/x-python",
   "name": "python",
   "nbconvert_exporter": "python",
   "pygments_lexer": "ipython3",
   "version": "3.10.11"
  }
 },
 "nbformat": 4,
 "nbformat_minor": 1
}
